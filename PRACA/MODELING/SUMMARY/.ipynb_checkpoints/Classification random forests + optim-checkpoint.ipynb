{
 "cells": [
  {
   "cell_type": "markdown",
   "metadata": {},
   "source": [
    "# Classification random forests"
   ]
  },
  {
   "cell_type": "code",
   "execution_count": 2,
   "metadata": {},
   "outputs": [
    {
     "ename": "ModuleNotFoundError",
     "evalue": "No module named 'skmultilearn'",
     "output_type": "error",
     "traceback": [
      "\u001b[1;31m---------------------------------------------------------------------------\u001b[0m",
      "\u001b[1;31mModuleNotFoundError\u001b[0m                       Traceback (most recent call last)",
      "\u001b[1;32m<ipython-input-2-c094ecaaf415>\u001b[0m in \u001b[0;36m<module>\u001b[1;34m\u001b[0m\n\u001b[0;32m     11\u001b[0m \u001b[1;33m\u001b[0m\u001b[0m\n\u001b[0;32m     12\u001b[0m \u001b[1;32mfrom\u001b[0m \u001b[0msklearn\u001b[0m\u001b[1;33m.\u001b[0m\u001b[0mmodel_selection\u001b[0m \u001b[1;32mimport\u001b[0m \u001b[0mtrain_test_split\u001b[0m\u001b[1;33m\u001b[0m\u001b[1;33m\u001b[0m\u001b[0m\n\u001b[1;32m---> 13\u001b[1;33m \u001b[1;32mfrom\u001b[0m \u001b[0mskmultilearn\u001b[0m\u001b[1;33m.\u001b[0m\u001b[0mmodel_selection\u001b[0m \u001b[1;32mimport\u001b[0m \u001b[0mIterativeStratification\u001b[0m\u001b[1;33m\u001b[0m\u001b[1;33m\u001b[0m\u001b[0m\n\u001b[0m",
      "\u001b[1;31mModuleNotFoundError\u001b[0m: No module named 'skmultilearn'"
     ]
    }
   ],
   "source": [
    "import numpy as np\n",
    "import pandas as pd\n",
    "import pickle\n",
    "import random\n",
    "import os\n",
    "\n",
    "# from bayes_opt import BayesianOptimization\n",
    "from sklearn.ensemble import RandomForestClassifier\n",
    "from sklearn.model_selection import cross_val_score\n",
    "from sklearn.metrics import roc_auc_score\n",
    "\n",
    "from sklearn.model_selection import train_test_split\n",
    "from skmultilearn.model_selection import IterativeStratification"
   ]
  },
  {
   "cell_type": "code",
   "execution_count": 2,
   "metadata": {},
   "outputs": [],
   "source": [
    "os.chdir(r\"C:/Users/mmandziej001/Desktop/Projects/FAIT/Prediction Module/POLAND_DANE/MODELING\")"
   ]
  },
  {
   "cell_type": "code",
   "execution_count": 3,
   "metadata": {},
   "outputs": [],
   "source": [
    "def bayesian_optimization(dataset, function, parameters):\n",
    "    n_iterations = 10\n",
    "    gp_params = {\"alpha\": 1e-4}\n",
    "\n",
    "    BO = BayesianOptimization(function, parameters)\n",
    "    BO.maximize(n_iter=n_iterations, **gp_params)\n",
    "\n",
    "    return BO.max"
   ]
  },
  {
   "cell_type": "code",
   "execution_count": 4,
   "metadata": {},
   "outputs": [],
   "source": [
    "def rfc_optimization(cv_splits):\n",
    "    def function(n_estimators, max_depth, min_samples_split):\n",
    "        return cross_val_score(\n",
    "               RandomForestClassifier(\n",
    "                   n_estimators=int(max(n_estimators,0)),                                                               \n",
    "                   max_depth=int(max(max_depth,1)),\n",
    "                   min_samples_split=int(max(min_samples_split,2)), \n",
    "                   n_jobs=-1, \n",
    "                   random_state=42,   \n",
    "                   class_weight=\"balanced\"),  \n",
    "               X=test_data, \n",
    "               y=test_labels, \n",
    "               cv=10,\n",
    "               scoring=\"roc_auc\",\n",
    "               n_jobs=-1).mean()\n",
    "\n",
    "    parameters = {\"n_estimators\": (1, 1000),\n",
    "                  \"max_depth\": (1, 2),\n",
    "                  \"min_samples_split\": (5, 10)}\n",
    "    return function, parameters"
   ]
  },
  {
   "cell_type": "code",
   "execution_count": 5,
   "metadata": {},
   "outputs": [],
   "source": [
    "parameters = {\"n_estimators\": (1, 1000),\n",
    "              \"max_depth\": (1, 2),\n",
    "              \"min_samples_split\": (5, 10)}"
   ]
  },
  {
   "cell_type": "code",
   "execution_count": 6,
   "metadata": {},
   "outputs": [],
   "source": [
    "def function(n_estimators, max_depth, min_samples_split):\n",
    "        return cross_val_score(\n",
    "               RandomForestClassifier(\n",
    "                   n_estimators=int(max(n_estimators,0)),                                                               \n",
    "                   max_depth=int(max(max_depth,1)),\n",
    "                   min_samples_split=int(max(min_samples_split,2)), \n",
    "                   n_jobs=-1, \n",
    "                   random_state=42,   \n",
    "                   class_weight=\"balanced\"),  \n",
    "               X=test_data, \n",
    "               y=test_labels, \n",
    "               cv=10,\n",
    "               scoring='accuracy',\n",
    "               n_jobs=-1).mean()"
   ]
  },
  {
   "cell_type": "code",
   "execution_count": 7,
   "metadata": {},
   "outputs": [],
   "source": [
    "#Train model\n",
    "def train(X_train, y_train, function, parameters):\n",
    "    dataset = (X_train, y_train)\n",
    "    cv_splits = 10\n",
    "    \n",
    "    best_solution = bayesian_optimization(dataset, function, parameters)      \n",
    "    params = best_solution[\"params\"]\n",
    "\n",
    "    model = RandomForestClassifier(\n",
    "             n_estimators = int(max(params[\"n_estimators\"], 0)),\n",
    "             max_depth = int(max(params[\"max_depth\"], 1)),\n",
    "             min_samples_split = int(max(params[\"min_samples_split\"], 2)), \n",
    "             n_jobs = -1, \n",
    "             random_state = 42,   \n",
    "             class_weight = \"balanced\")    \n",
    "    model.fit(X_train, y_train)\n",
    "    \n",
    "    model_predict = model.predict(test_data)\n",
    "    return model\n",
    "\n",
    "def roc_auc_score_FIXED(y_true, y_pred):\n",
    "    if len(np.unique(y_true)) == 1: # bug in roc_auc_score\n",
    "        return accuracy_score(y_true, np.rint(y_pred))\n",
    "    return roc_auc_score(y_true, y_pred)"
   ]
  },
  {
   "cell_type": "code",
   "execution_count": 8,
   "metadata": {
    "scrolled": true
   },
   "outputs": [],
   "source": [
    "train_data = pd.read_csv('model_training/data/data_train_under_inputed.csv')\n",
    "test_data = pd.read_csv('model_training/data/data_test_under_inputed.csv')\n",
    "\n",
    "train_id = train_data.pop('NIP')\n",
    "test_id = test_data.pop('NIP')\n",
    "\n",
    "train_labels = train_data.pop('Label')\n",
    "test_labels = test_data.pop('Label')\n",
    "\n",
    "train_datestamp = train_data.pop('DataUpadlosci')\n",
    "test_datestamp = test_data.pop('DataUpadlosci')"
   ]
  },
  {
   "cell_type": "code",
   "execution_count": 16,
   "metadata": {},
   "outputs": [],
   "source": [
    "boruta_importance = pd.read_excel('model_training/R_DUMPS/Boruta_variable_importance_under.xlsx')\n",
    "boruta_importance = boruta_importance.sort_values(by=['normHits', 'meanImp'],\n",
    "                                                  ascending=True)\n",
    "boruta_features = list(\n",
    "    boruta_importance[boruta_importance['decision'] == 'Confirmed'].V7)\n",
    "boruta_pred_power = list(boruta_importance.V7)\n",
    "boruta_features = [c for c in boruta_features if c not in [\n",
    "    'DeclaredAccountsCount', 'RemovalDaysAgo',\n",
    "    'X6', 'P4', 'RevenueToWages', 'RevenueToCash']]"
   ]
  },
  {
   "cell_type": "code",
   "execution_count": 25,
   "metadata": {},
   "outputs": [],
   "source": [
    "#boruta_features = ['ScreenedParties', 'PartyType_Subsidiary', 'Critical_last_3_checklistsDR', 'ESR_Full_ESR_review', 'Minor_last_3_checklistsDR', 'Minor_last_3_checklistsPC', 'Major_last_3_checklistsPC', 'TLAssignedName_Yadav__N___Neha_', 'Cases_last_30_days_of_PC', 'Minor_last_10_checklistsDR', 'Critical_last_10_checklistsDR', 'Cases_last_5_days_of_PC', 'TLAssignedName_Makowska__M_M___Malgorzata_', 'TLAssignedName_Michalik__J___Justyna_', 'TeamExperience', 'HourNumeric', 'GroupCases', 'TLAssignedName_Jurojc__M___Mateusz_', 'ProcessingUnit_Gdansk', 'ProcessingUnit_MidCorp', 'FirstGroupCase', 'TLAssignedName_Jastrzebowska__S___Sonia_', 'Minor_last_10_checklistsPC', 'Major_last_10_checklistsPC', 'TLAssignedName_Marcos_Cantabrana__I___Ivan_', 'TLAssignedName_Wojciechowska__M___Magdalena_', 'ProjectExperience', 'Cases_last_30_days_of_DR', 'Cases_last_5_days_of_DR', 'TLAssignedName_Rybka__I_A___Izabela_Anna_', 'Major_last_10_checklistsDR', 'Major_last_3_checklistsDR', 'Major_last_5_checklistsDR']"
   ]
  },
  {
   "cell_type": "code",
   "execution_count": 17,
   "metadata": {},
   "outputs": [],
   "source": [
    "test_data = test_data[boruta_features]  #[boruta_features] # used_columns, boruta_features\n",
    "train_data = train_data[boruta_features]  #[boruta_features] # used_columns, boruta_features"
   ]
  },
  {
   "cell_type": "code",
   "execution_count": 18,
   "metadata": {},
   "outputs": [
    {
     "name": "stdout",
     "output_type": "stream",
     "text": [
      "['EMISLegalForm_Other', 'ExpiredLicenses', 'ActiveLicenses', 'NoMail_NIE', 'FormaWlasnosci_WŁASNOŚĆ PRYWATNA KRAJOWA POZOSTAŁA', 'FormaWlasnosci_WŁASNOŚĆ ZAGRANICZNA', 'VirtualAccountsPresence_NIE', 'NoMail_TAK', 'PhoneNotPresent_NIE', 'PhoneNotPresent_TAK', 'FormaWlasnosci_Other', 'FormaWlasnosci_WŁASNOŚĆ KRAJOWYCH OSÓB FIZYCZNYCH', 'SpecialLegalForm_SPÓŁKI JAWNE', 'VirtualAccountsPresence_TAK', 'AdresBiuroWirtualne_NIE', 'RyzykownaDziałalnoscGlowna_NIE', 'AdresLokal_TAK', 'NoFax_TAK', 'NoFax_NIE', 'CAACEksport_NIE', 'NoWebsite_NIE', 'NoWebsite_TAK', 'AdresLokal_NIE', 'CAACImport_NIE', 'AffiliatesCount', 'DescriptionNull_NIE', 'AdresLokal_BrakDanych', 'DescriptionNull_TAK', 'MainPKD_BrakDanych', 'CAACImport_BrakDanych', 'CAACEksport_BrakDanych', 'RyzykowneDzialalnosciDodatkowe_BrakDanych', 'RyzykownaDziałalnoscGlowna_BrakDanych', 'AdresBiuroWirtualne_BrakDanych', 'NonCurrentLiabilities', 'ExternalIdsOthers', 'EMISLegalForm_PL-SK', 'RepresentationCount', 'RetainedEarnings', 'CashandCashEquivalents', 'SpecialLegalForm_SPÓŁKI AKCYJNE', 'EMISLegalForm_PL-SJ', 'TotalAssets', 'ProfitBeforeIncomeTax', 'ROE', 'PropertyPlantAndEquipment', 'OperatingProfitEBIT', 'X10', 'TotalLiabilities', 'RyzykowneDzialalnosciDodatkowe_TAK', 'NetProfitLossForThePeriod', 'EMISLegalForm_PL-SA', 'DepreciationAmortization', 'X14', 'CurrentAssets', 'A3', 'A2', 'IncomeTax', 'RegisteredCapitalValue', 'NumberOfEmployees', 'CurrentLiabilities', 'PreviousNamesCount', 'ROA', 'WorkingCapital', 'SpecialLegalForm_SPÓŁKI KOMANDYTOWE', 'X11', 'X8', 'EMISLegalForm_PL-SPZOO', 'LegalForm_JEDNOSTKA ORGANIZACYJNA NIEMAJĄCA OSOBOWOŚCI PRAWNEJ', 'A4', 'BruttoMargin', 'ROS', 'LegalForm_OSOBA PRAWNA', 'DepreciationImpairment', 'X13', 'X9', 'SpecialLegalForm_SPÓŁKI Z OGRANICZONĄ ODPOWIEDZIALNOŚCIĄ', 'EmployeeBenefitExpense', 'IssuedCapital', 'A5', 'PreviousNameChangeYearsAgo', 'TotalEquity', 'NetSalesRevenue', 'RyzykowneDzialalnosciDodatkowe_NIE', 'A1', 'P3', 'ExecutivesCount', 'AuditDaysAgo', 'Wiek', 'SecondaryPKDCount', 'OwnersCount']\n",
      "41752 14988 0.36\n",
      "10438 3747 0.36\n"
     ]
    }
   ],
   "source": [
    "print(list(train_data))\n",
    "print(len(train_labels), sum(train_labels), round(sum(train_labels)/len(train_labels), 2))\n",
    "print(len(test_labels), sum(test_labels), round(sum(test_labels)/len(test_labels), 2))"
   ]
  },
  {
   "cell_type": "code",
   "execution_count": 19,
   "metadata": {},
   "outputs": [
    {
     "name": "stdout",
     "output_type": "stream",
     "text": [
      "|   iter    |  target   | max_depth | min_sa... | n_esti... |\n",
      "-------------------------------------------------------------\n",
      "| \u001b[0m 1       \u001b[0m | \u001b[0m 0.7672  \u001b[0m | \u001b[0m 1.901   \u001b[0m | \u001b[0m 9.914   \u001b[0m | \u001b[0m 458.6   \u001b[0m |\n",
      "| \u001b[0m 2       \u001b[0m | \u001b[0m 0.759   \u001b[0m | \u001b[0m 1.885   \u001b[0m | \u001b[0m 6.502   \u001b[0m | \u001b[0m 404.0   \u001b[0m |\n",
      "| \u001b[0m 3       \u001b[0m | \u001b[0m 0.762   \u001b[0m | \u001b[0m 1.602   \u001b[0m | \u001b[0m 5.028   \u001b[0m | \u001b[0m 579.6   \u001b[0m |\n",
      "| \u001b[95m 4       \u001b[0m | \u001b[95m 0.7678  \u001b[0m | \u001b[95m 1.584   \u001b[0m | \u001b[95m 6.607   \u001b[0m | \u001b[95m 785.9   \u001b[0m |\n",
      "| \u001b[95m 5       \u001b[0m | \u001b[95m 0.7705  \u001b[0m | \u001b[95m 1.908   \u001b[0m | \u001b[95m 6.665   \u001b[0m | \u001b[95m 85.31   \u001b[0m |\n",
      "| \u001b[0m 6       \u001b[0m | \u001b[0m 0.7705  \u001b[0m | \u001b[0m 1.491   \u001b[0m | \u001b[0m 7.44    \u001b[0m | \u001b[0m 85.92   \u001b[0m |\n",
      "| \u001b[95m 7       \u001b[0m | \u001b[95m 0.8007  \u001b[0m | \u001b[95m 1.086   \u001b[0m | \u001b[95m 9.884   \u001b[0m | \u001b[95m 32.0    \u001b[0m |\n",
      "| \u001b[95m 8       \u001b[0m | \u001b[95m 0.8149  \u001b[0m | \u001b[95m 1.012   \u001b[0m | \u001b[95m 9.384   \u001b[0m | \u001b[95m 5.856   \u001b[0m |\n",
      "| \u001b[0m 9       \u001b[0m | \u001b[0m 0.7709  \u001b[0m | \u001b[0m 1.936   \u001b[0m | \u001b[0m 6.178   \u001b[0m | \u001b[0m 999.9   \u001b[0m |\n",
      "| \u001b[0m 10      \u001b[0m | \u001b[0m 0.5965  \u001b[0m | \u001b[0m 1.0     \u001b[0m | \u001b[0m 5.0     \u001b[0m | \u001b[0m 1.0     \u001b[0m |\n",
      "| \u001b[0m 11      \u001b[0m | \u001b[0m 0.798   \u001b[0m | \u001b[0m 1.019   \u001b[0m | \u001b[0m 10.0    \u001b[0m | \u001b[0m 8.993   \u001b[0m |\n",
      "| \u001b[0m 12      \u001b[0m | \u001b[0m 0.7951  \u001b[0m | \u001b[0m 1.178   \u001b[0m | \u001b[0m 5.813   \u001b[0m | \u001b[0m 34.03   \u001b[0m |\n",
      "| \u001b[0m 13      \u001b[0m | \u001b[0m 0.8097  \u001b[0m | \u001b[0m 1.426   \u001b[0m | \u001b[0m 6.265   \u001b[0m | \u001b[0m 28.96   \u001b[0m |\n",
      "| \u001b[95m 14      \u001b[0m | \u001b[95m 0.8174  \u001b[0m | \u001b[95m 1.713   \u001b[0m | \u001b[95m 9.672   \u001b[0m | \u001b[95m 25.33   \u001b[0m |\n",
      "| \u001b[95m 15      \u001b[0m | \u001b[95m 0.8176  \u001b[0m | \u001b[95m 1.823   \u001b[0m | \u001b[95m 5.077   \u001b[0m | \u001b[95m 23.34   \u001b[0m |\n",
      "=============================================================\n"
     ]
    }
   ],
   "source": [
    "best_model_rfc = train(train_data, train_labels, function, parameters)"
   ]
  },
  {
   "cell_type": "code",
   "execution_count": 20,
   "metadata": {},
   "outputs": [
    {
     "name": "stdout",
     "output_type": "stream",
     "text": [
      "0.8969840882919059 0.8954327114359251 0.002\n"
     ]
    }
   ],
   "source": [
    "model = best_model_rfc\n",
    "#model = RandomForestClassifier(max_depth=2, random_state=5, n_estimators=10000, class_weight=\"balanced\", max_features=1)\n",
    "\n",
    "model.fit(train_data, train_labels)\n",
    "model_predict = model.predict(test_data)\n",
    "test_predictions = model.predict_proba(test_data)[:, 1]\n",
    "train_predictions = model.predict_proba(train_data)[:,1]\n",
    "auc_best_model_train = roc_auc_score(train_labels, train_predictions)\n",
    "auc_best_model_test = roc_auc_score(test_labels, test_predictions)\n",
    "overfit = round((auc_best_model_train - auc_best_model_test), 3)\n",
    "\n",
    "print(auc_best_model_train, auc_best_model_test, overfit)"
   ]
  },
  {
   "cell_type": "code",
   "execution_count": 21,
   "metadata": {},
   "outputs": [],
   "source": [
    "test_predictions_df = pd.DataFrame(test_predictions)\n",
    "train_predictions_df = pd.DataFrame(train_predictions)\n",
    "\n",
    "test_results = pd.concat([test_id, test_datestamp, test_predictions_df, test_labels], axis=1)\n",
    "test_results = test_results.rename(columns={0: \"Score\"})\n",
    "test_results = test_results.sort_values(by='Score', axis=0, ascending=False)\n",
    "\n",
    "SumTest = pd.DataFrame(np.cumsum(test_results['Label']))\n",
    "SumTest = SumTest.rename(columns={'Label': 'Sum'})\n",
    "test_results = pd.concat([test_results, SumTest], axis=1)\n",
    "test_results.reset_index(inplace = True , drop=True)\n",
    "X_coordinates = pd.DataFrame(np.arange(1,(test_results.shape[0]+1))/(test_results.shape[0]))\n",
    "X_coordinates = X_coordinates.rename(columns={0: 'X_coordinates'})\n",
    "y_coordinates = pd.DataFrame(test_results['Sum']/test_results['Sum'].max())\n",
    "y_coordinates = y_coordinates.rename(columns={'Sum': 'y_coordinates'})\n",
    "test_results = pd.concat([test_results, X_coordinates,y_coordinates], axis=1)\n",
    "\n",
    "# train results\n",
    "train_results = pd.concat([train_id, train_datestamp, train_predictions_df, train_labels], axis=1)\n",
    "train_results = train_results.rename(columns={0:\"Score\"})\n",
    "train_results = train_results.sort_values(by='Score', axis=0, ascending=False)\n",
    "\n",
    "SumTrain = pd.DataFrame(np.cumsum(train_results['Label']))\n",
    "SumTrain = SumTrain.rename(columns={'Label':'Sum'})\n",
    "train_results = pd.concat([train_results, SumTrain], axis=1)\n",
    "train_results.reset_index(inplace = True , drop=True)\n",
    "\n",
    "X_coordinates = pd.DataFrame(np.arange(1,(train_results.shape[0]+1))/(train_results.shape[0]))\n",
    "X_coordinates = X_coordinates.rename(columns={0: 'X_coordinates'})\n",
    "y_coordinates = pd.DataFrame(train_results['Sum']/train_results['Sum'].max())\n",
    "y_coordinates = y_coordinates.rename(columns={'Sum': 'y_coordinates'})\n",
    "train_results = pd.concat([train_results, X_coordinates,y_coordinates], axis=1)"
   ]
  },
  {
   "cell_type": "code",
   "execution_count": 22,
   "metadata": {},
   "outputs": [
    {
     "name": "stdout",
     "output_type": "stream",
     "text": [
      "['EMISLegalForm_Other', 'ExpiredLicenses', 'ActiveLicenses', 'NoMail_NIE', 'FormaWlasnosci_WŁASNOŚĆ PRYWATNA KRAJOWA POZOSTAŁA', 'FormaWlasnosci_WŁASNOŚĆ ZAGRANICZNA', 'VirtualAccountsPresence_NIE', 'NoMail_TAK', 'PhoneNotPresent_NIE', 'PhoneNotPresent_TAK', 'FormaWlasnosci_Other', 'FormaWlasnosci_WŁASNOŚĆ KRAJOWYCH OSÓB FIZYCZNYCH', 'SpecialLegalForm_SPÓŁKI JAWNE', 'VirtualAccountsPresence_TAK', 'AdresBiuroWirtualne_NIE', 'RyzykownaDziałalnoscGlowna_NIE', 'AdresLokal_TAK', 'NoFax_TAK', 'NoFax_NIE', 'CAACEksport_NIE', 'NoWebsite_NIE', 'NoWebsite_TAK', 'AdresLokal_NIE', 'CAACImport_NIE', 'AffiliatesCount', 'DescriptionNull_NIE', 'AdresLokal_BrakDanych', 'DescriptionNull_TAK', 'MainPKD_BrakDanych', 'CAACImport_BrakDanych', 'CAACEksport_BrakDanych', 'RyzykowneDzialalnosciDodatkowe_BrakDanych', 'RyzykownaDziałalnoscGlowna_BrakDanych', 'AdresBiuroWirtualne_BrakDanych', 'NonCurrentLiabilities', 'ExternalIdsOthers', 'EMISLegalForm_PL-SK', 'RepresentationCount', 'RetainedEarnings', 'CashandCashEquivalents', 'SpecialLegalForm_SPÓŁKI AKCYJNE', 'EMISLegalForm_PL-SJ', 'TotalAssets', 'ProfitBeforeIncomeTax', 'ROE', 'PropertyPlantAndEquipment', 'OperatingProfitEBIT', 'X10', 'TotalLiabilities', 'RyzykowneDzialalnosciDodatkowe_TAK', 'NetProfitLossForThePeriod', 'EMISLegalForm_PL-SA', 'DepreciationAmortization', 'X14', 'CurrentAssets', 'A3', 'A2', 'IncomeTax', 'RegisteredCapitalValue', 'NumberOfEmployees', 'CurrentLiabilities', 'PreviousNamesCount', 'ROA', 'WorkingCapital', 'SpecialLegalForm_SPÓŁKI KOMANDYTOWE', 'X11', 'X8', 'EMISLegalForm_PL-SPZOO', 'LegalForm_JEDNOSTKA ORGANIZACYJNA NIEMAJĄCA OSOBOWOŚCI PRAWNEJ', 'A4', 'BruttoMargin', 'ROS', 'LegalForm_OSOBA PRAWNA', 'DepreciationImpairment', 'X13', 'X9', 'SpecialLegalForm_SPÓŁKI Z OGRANICZONĄ ODPOWIEDZIALNOŚCIĄ', 'EmployeeBenefitExpense', 'IssuedCapital', 'A5', 'PreviousNameChangeYearsAgo', 'TotalEquity', 'NetSalesRevenue', 'RyzykowneDzialalnosciDodatkowe_NIE', 'A1', 'P3', 'ExecutivesCount', 'AuditDaysAgo', 'Wiek', 'SecondaryPKDCount', 'OwnersCount']\n"
     ]
    }
   ],
   "source": [
    "train_results.to_csv(r'model_training/results/rf/rf_train_results.csv')\n",
    "test_results.to_csv(r'model_training/results/rf/rf_test_results.csv')\n",
    "filename = r'model_training/results/rf/rfc_model.sav'\n",
    "pickle.dump(model, open(filename, 'wb'))\n",
    "with open('model_training/results/rf/used_features.txt', 'w') as f:\n",
    "    for item in train_data.columns:\n",
    "        f.write(\"%s\\n\" % item)\n",
    "print(list(train_data.columns))"
   ]
  }
 ],
 "metadata": {
  "kernelspec": {
   "display_name": "gpu",
   "language": "python",
   "name": "gpu"
  },
  "language_info": {
   "codemirror_mode": {
    "name": "ipython",
    "version": 3
   },
   "file_extension": ".py",
   "mimetype": "text/x-python",
   "name": "python",
   "nbconvert_exporter": "python",
   "pygments_lexer": "ipython3",
   "version": "3.7.6"
  }
 },
 "nbformat": 4,
 "nbformat_minor": 2
}
