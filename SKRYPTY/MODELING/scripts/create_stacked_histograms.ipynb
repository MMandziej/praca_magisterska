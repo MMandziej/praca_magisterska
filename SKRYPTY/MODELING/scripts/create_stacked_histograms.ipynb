{
 "cells": [
  {
   "cell_type": "code",
   "execution_count": 55,
   "metadata": {},
   "outputs": [],
   "source": [
    "import glob\n",
    "import matplotlib.pyplot as plt\n",
    "import numpy as np\n",
    "import os\n",
    "import pandas as pd\n",
    "import seaborn as sns\n",
    "import sys\n",
    "\n",
    "from sklearn.cluster import KMeans\n",
    "from sklearn.preprocessing import StandardScaler"
   ]
  },
  {
   "cell_type": "code",
   "execution_count": 2,
   "metadata": {},
   "outputs": [],
   "source": [
    "os.chdir(r'C:\\Users\\user\\Desktop\\Git\\magisterka\\SKRYPTY\\MODELING')"
   ]
  },
  {
   "cell_type": "code",
   "execution_count": 40,
   "metadata": {},
   "outputs": [],
   "source": [
    "train = pd.read_csv(r\"models\\results\\merged\\model_performance\\nn_train_merged.csv\")\n",
    "test = pd.read_csv(r\"models\\results\\merged\\model_performance\\nn_test_merged.csv\")\n",
    "out_path = r\"models\\results\\merged\\charts\\\\\""
   ]
  },
  {
   "cell_type": "code",
   "execution_count": 48,
   "metadata": {},
   "outputs": [],
   "source": [
    "kmeans_test = test[['Score', 'Label', 'CategoryName']]"
   ]
  },
  {
   "cell_type": "code",
   "execution_count": null,
   "metadata": {},
   "outputs": [],
   "source": [
    "#list(test)\n",
    "categories = test.CategoryName.unique()\n",
    "categories"
   ]
  },
  {
   "cell_type": "code",
   "execution_count": null,
   "metadata": {},
   "outputs": [],
   "source": [
    "for idx, cat in enumerate(categories):\n",
    "    plot_data = test[test['CategoryName'] == cat]\n",
    "    #fig, ax = plt.subplots(figsize=(10,8))\n",
    "    #plot_data.pivot(columns='Label').Score.plot(kind = 'hist', stacked=True, bins=10)\n",
    "    pd.DataFrame({'Good': plot_data.groupby('Label').get_group(0).Score,\n",
    "                  'Errors':   plot_data.groupby('Label').get_group(1).Score}).plot.hist(stacked=True, bins=20)\n",
    "    plt.title(cat, fontsize=15)\n",
    "    plt.tight_layout()\n",
    "    plt.savefig(out_path + 'StackedHist_' + str(idx) + '_' + cat)\n",
    "    plt.show()"
   ]
  },
  {
   "cell_type": "code",
   "execution_count": null,
   "metadata": {},
   "outputs": [],
   "source": [
    "for idx, cat in enumerate(categories):\n",
    "    kmeans = KMeans(n_clusters=3)  #, random_state=1\n",
    "    kmeans_data = kmeans_test[kmeans_test['CategoryName'] == cat]\n",
    "    kmeans.fit(kmeans_data[['Score']])\n",
    "    \n",
    "    segment_labels = kmeans.labels_\n",
    "    data_clustered = kmeans_data.assign(Segment=segment_labels)\n",
    "    sns.boxplot(x=\"Segment\", y='Score',\n",
    "                hue=\"Segment\", palette=[\"m\", \"g\"], showfliers=False,\n",
    "                data=data_clustered)\n",
    "    plt.title(cat, fontsize=15)\n",
    "    plt.tight_layout()\n",
    "    stats_segments = data_clustered.groupby(['Segment']).agg({'Score': [np.min, np.max]})\n",
    "    plt.show()\n",
    "    #stats_segments"
   ]
  }
 ],
 "metadata": {
  "kernelspec": {
   "display_name": "mlenv",
   "language": "python",
   "name": "mlenv"
  },
  "language_info": {
   "codemirror_mode": {
    "name": "ipython",
    "version": 3
   },
   "file_extension": ".py",
   "mimetype": "text/x-python",
   "name": "python",
   "nbconvert_exporter": "python",
   "pygments_lexer": "ipython3",
   "version": "3.7.6"
  }
 },
 "nbformat": 4,
 "nbformat_minor": 4
}
