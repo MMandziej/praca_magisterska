import pandas as pd
import os

from scripts.NN_modelling_restructured import full_search
from scripts.NN_narrow_search import narrow_search

train_data = pd.read_csv('models/data/dataset_dummy_grouped_time_train_cat1.csv')
test_data = pd.read_csv('models/data/dataset_dummy_grouped_time_test_cat1.csv')

train_id = train_data.pop('Unique')
test_id = test_data.pop('Unique')

train_labels = train_data.pop('Label')
test_labels = test_data.pop('Label')

train_datestamp = train_data.pop('datestamp')
test_datestamp = test_data.pop('datestamp')

qc_columns = [col for col in train_data.columns if 'qc_' in col] # train_data.columns 
used_columns = [col for col in train_data.columns if col not in qc_columns] # train_data.columns 

boruta_importance = pd.read_csv('data/ai_assistant_dumps/Boruta_variable_importance.csv')
boruta_importance = boruta_importance.sort_values(by=['medianImp', 'meanImp'],
                                                  ascending=True)
boruta_features = list(
    boruta_importance[boruta_importance['decision'] == 'Confirmed'].V7)
boruta_features.extend(['High_Value_Client_Bronze', 'analyst_score_deducted_14_all'])
boruta_pred_power = list(boruta_importance.V7)


train_data = train_data[boruta_features] # used_columns, boruta_features
test_data = test_data[boruta_features] # used_columns, boruta_features

models_list, models_params, output_table = full_search(
    train_data, train_labels, test_data, test_labels,
    max_iter=1000, max_hours=3,
    min_auc=0.60, max_overfit_auc=0.03,
    prefix='nn_results')

boruta_models_list, boruta_models_params, boruta_output_table = full_search(
    train_data, train_labels, test_data, test_labels,
    max_iter=1000, max_hours=3,
    min_auc=0.662, max_overfit_auc=0.03,
    prefix='nn_results_boruta')
model_list_narrow, models_params_narrow, output_table_narrow = narrow_search(
    train_data, train_labels, test_data, test_labels,
    columns_to_drop=boruta_pred_power,
    max_iter=100, max_hours=0.5,
    min_auc=0.662, max_overfit_auc=0.03,
    prefix='nn_results_selected_columns')

