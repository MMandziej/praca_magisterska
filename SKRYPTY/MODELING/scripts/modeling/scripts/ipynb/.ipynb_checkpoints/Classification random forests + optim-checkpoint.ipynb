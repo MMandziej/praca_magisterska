{
 "cells": [
  {
   "cell_type": "markdown",
   "metadata": {},
   "source": [
    "# Classification random forests"
   ]
  },
  {
   "cell_type": "code",
   "execution_count": 1,
   "metadata": {},
   "outputs": [],
   "source": [
    "import numpy as np\n",
    "import pandas as pd\n",
    "import pickle\n",
    "import random\n",
    "import os\n",
    "\n",
    "from bayes_opt import BayesianOptimization\n",
    "from sklearn.ensemble import RandomForestClassifier\n",
    "from sklearn.model_selection import cross_val_score\n",
    "from sklearn.metrics import roc_auc_score\n",
    "\n",
    "from sklearn.model_selection import train_test_split\n",
    "from skmultilearn.model_selection import IterativeStratification"
   ]
  },
  {
   "cell_type": "code",
   "execution_count": 2,
   "metadata": {},
   "outputs": [],
   "source": [
    "os.chdir(r\"C:/Users/mmandziej001/Desktop/FCU/SCRIPTS/predictive_qc_lion_king\")"
   ]
  },
  {
   "cell_type": "code",
   "execution_count": 3,
   "metadata": {},
   "outputs": [],
   "source": [
    "def bayesian_optimization(dataset, function, parameters):\n",
    "    n_iterations = 10\n",
    "    gp_params = {\"alpha\": 1e-4}\n",
    "\n",
    "    BO = BayesianOptimization(function, parameters)\n",
    "    BO.maximize(n_iter=n_iterations, **gp_params)\n",
    "\n",
    "    return BO.max"
   ]
  },
  {
   "cell_type": "code",
   "execution_count": 4,
   "metadata": {},
   "outputs": [],
   "source": [
    "def rfc_optimization(cv_splits):\n",
    "    def function(n_estimators, max_depth, min_samples_split):\n",
    "        return cross_val_score(\n",
    "               RandomForestClassifier(\n",
    "                   n_estimators=int(max(n_estimators,0)),                                                               \n",
    "                   max_depth=int(max(max_depth,1)),\n",
    "                   min_samples_split=int(max(min_samples_split,2)), \n",
    "                   n_jobs=-1, \n",
    "                   random_state=42,   \n",
    "                   class_weight=\"balanced\"),  \n",
    "               X=test_data, \n",
    "               y=test_labels, \n",
    "               cv=10,\n",
    "               scoring=\"roc_auc\",\n",
    "               n_jobs=-1).mean()\n",
    "\n",
    "    parameters = {\"n_estimators\": (1, 1000),\n",
    "                  \"max_depth\": (1, 2),\n",
    "                  \"min_samples_split\": (5, 10)}\n",
    "    return function, parameters"
   ]
  },
  {
   "cell_type": "code",
   "execution_count": 5,
   "metadata": {},
   "outputs": [],
   "source": [
    "parameters = {\"n_estimators\": (1, 1000),\n",
    "                  \"max_depth\": (1, 2),\n",
    "                  \"min_samples_split\": (5, 10)}"
   ]
  },
  {
   "cell_type": "code",
   "execution_count": 6,
   "metadata": {},
   "outputs": [],
   "source": [
    "def function(n_estimators, max_depth, min_samples_split):\n",
    "        return cross_val_score(\n",
    "               RandomForestClassifier(\n",
    "                   n_estimators=int(max(n_estimators,0)),                                                               \n",
    "                   max_depth=int(max(max_depth,1)),\n",
    "                   min_samples_split=int(max(min_samples_split,2)), \n",
    "                   n_jobs=-1, \n",
    "                   random_state=42,   \n",
    "                   class_weight=\"balanced\"),  \n",
    "               X=test_data, \n",
    "               y=test_labels, \n",
    "               cv=10,\n",
    "               scoring='accuracy',\n",
    "               n_jobs=-1).mean()"
   ]
  },
  {
   "cell_type": "code",
   "execution_count": 7,
   "metadata": {},
   "outputs": [],
   "source": [
    "#Train model\n",
    "def train(X_train, y_train, function, parameters):\n",
    "    dataset = (X_train, y_train)\n",
    "    cv_splits = 10\n",
    "    \n",
    "    best_solution = bayesian_optimization(dataset, function, parameters)      \n",
    "    params = best_solution[\"params\"]\n",
    "\n",
    "    model = RandomForestClassifier(\n",
    "             n_estimators = int(max(params[\"n_estimators\"], 0)),\n",
    "             max_depth = int(max(params[\"max_depth\"], 1)),\n",
    "             min_samples_split = int(max(params[\"min_samples_split\"], 2)), \n",
    "             n_jobs = -1, \n",
    "             random_state = 42,   \n",
    "             class_weight = \"balanced\")    \n",
    "    model.fit(X_train, y_train)\n",
    "    \n",
    "    model_predict = model.predict(test_data)\n",
    "    return model\n",
    "\n",
    "def roc_auc_score_FIXED(y_true, y_pred):\n",
    "    if len(np.unique(y_true)) == 1: # bug in roc_auc_score\n",
    "        return accuracy_score(y_true, np.rint(y_pred))\n",
    "    return roc_auc_score(y_true, y_pred)"
   ]
  },
  {
   "cell_type": "code",
   "execution_count": 98,
   "metadata": {},
   "outputs": [],
   "source": [
    "train_data = pd.read_csv('model_training/data/PC/dataset_dummy_grouped_time_train_cat8.csv')\n",
    "test_data = pd.read_csv('model_training/data/PC/dataset_dummy_grouped_time_test_cat8.csv')\n",
    "\n",
    "# drop id of cases\n",
    "train_id = train_data.pop('Unique')\n",
    "test_id = test_data.pop('Unique')\n",
    "\n",
    "train_labels = train_data.pop('Label')\n",
    "test_labels = test_data.pop('Label')\n",
    "\n",
    "train_datestamp = train_data.pop('datestamp')\n",
    "test_datestamp = test_data.pop('datestamp')"
   ]
  },
  {
   "cell_type": "code",
   "execution_count": 99,
   "metadata": {},
   "outputs": [],
   "source": [
    "boruta_importance = pd.read_excel('model_training/data/ai_assistant_dumps/PC/\\\n",
    "8_FATCA_CRS/Boruta_variable_importance_pc.xlsx')\n",
    "boruta_importance = boruta_importance.sort_values(by=['normHits', 'meanImp'],\n",
    "                                                  ascending=True)\n",
    "boruta_features = list(\n",
    "    boruta_importance[boruta_importance['decision'] == 'Confirmed'].V7)"
   ]
  },
  {
   "cell_type": "code",
   "execution_count": 25,
   "metadata": {},
   "outputs": [],
   "source": [
    "#boruta_features = ['ScreenedParties', 'PartyType_Subsidiary', 'Critical_last_3_checklistsDR', 'ESR_Full_ESR_review', 'Minor_last_3_checklistsDR', 'Minor_last_3_checklistsPC', 'Major_last_3_checklistsPC', 'TLAssignedName_Yadav__N___Neha_', 'Cases_last_30_days_of_PC', 'Minor_last_10_checklistsDR', 'Critical_last_10_checklistsDR', 'Cases_last_5_days_of_PC', 'TLAssignedName_Makowska__M_M___Malgorzata_', 'TLAssignedName_Michalik__J___Justyna_', 'TeamExperience', 'HourNumeric', 'GroupCases', 'TLAssignedName_Jurojc__M___Mateusz_', 'ProcessingUnit_Gdansk', 'ProcessingUnit_MidCorp', 'FirstGroupCase', 'TLAssignedName_Jastrzebowska__S___Sonia_', 'Minor_last_10_checklistsPC', 'Major_last_10_checklistsPC', 'TLAssignedName_Marcos_Cantabrana__I___Ivan_', 'TLAssignedName_Wojciechowska__M___Magdalena_', 'ProjectExperience', 'Cases_last_30_days_of_DR', 'Cases_last_5_days_of_DR', 'TLAssignedName_Rybka__I_A___Izabela_Anna_', 'Major_last_10_checklistsDR', 'Major_last_3_checklistsDR', 'Major_last_5_checklistsDR']"
   ]
  },
  {
   "cell_type": "code",
   "execution_count": 100,
   "metadata": {},
   "outputs": [],
   "source": [
    "test_data = test_data#[boruta_features]  #[boruta_features] # used_columns, boruta_features\n",
    "train_data = train_data#[boruta_features]  #[boruta_features] # used_columns, boruta_features"
   ]
  },
  {
   "cell_type": "code",
   "execution_count": 101,
   "metadata": {},
   "outputs": [
    {
     "name": "stdout",
     "output_type": "stream",
     "text": [
      "['ScreenedParties', 'OwnershipLayers', 'HourNumeric', 'FirstGroupCase', 'CasesGroupPercProcessed', 'AnalystGroupPercProcessed', 'GroupCases', 'PopulationMatch', 'Cases_last_5_days_of_PC', 'Cases_last_30_days_of_PC', 'Cases_last_5_days_of_DR', 'Cases_last_30_days_of_DR', 'Cases_last_5_days_of_CO', 'Cases_last_30_days_of_CO', 'PCODD_(Office_Due_Diligence)_-_local_requirements_(if_applicable)_Major_last_5_checklists', 'PCODD_(Office_Due_Diligence)_-_local_requirements_(if_applicable)_Critical_last_5_checklists', 'PCODD_(Office_Due_Diligence)_-_local_requirements_(if_applicable)_Major_last_10_checklists', 'PCODD_(Office_Due_Diligence)_-_local_requirements_(if_applicable)_Critical_last_10_checklists', 'DRODD_(Office_Due_Diligence)_-_local_requirements_(if_applicable)_Major_last_5_checklists', 'DRODD_(Office_Due_Diligence)_-_local_requirements_(if_applicable)_Major_last_10_checklists', 'COODD_(Office_Due_Diligence)_-_local_requirements_(if_applicable)_Major_last_5_checklists', 'COODD_(Office_Due_Diligence)_-_local_requirements_(if_applicable)_Major_last_10_checklists', 'PCRisk_factors_Minor_last_5_checklists', 'PCRisk_factors_Major_last_5_checklists', 'PCRisk_factors_Critical_last_5_checklists', 'PCRisk_factors_Minor_last_10_checklists', 'PCRisk_factors_Major_last_10_checklists', 'PCRisk_factors_Critical_last_10_checklists', 'DRRisk_factors_Minor_last_5_checklists', 'DRRisk_factors_Major_last_5_checklists', 'DRRisk_factors_Critical_last_5_checklists', 'DRRisk_factors_Minor_last_10_checklists', 'DRRisk_factors_Major_last_10_checklists', 'DRRisk_factors_Critical_last_10_checklists', 'CORisk_factors_Minor_last_5_checklists', 'CORisk_factors_Major_last_5_checklists', 'CORisk_factors_Minor_last_10_checklists', 'CORisk_factors_Major_last_10_checklists', 'CORisk_factors_Critical_last_10_checklists', 'PCClient_Outreach_Major_last_5_checklists', 'PCClient_Outreach_Major_last_10_checklists', 'DRClient_Outreach_Major_last_5_checklists', 'DRClient_Outreach_Critical_last_5_checklists', 'DRClient_Outreach_Major_last_10_checklists', 'DRClient_Outreach_Critical_last_10_checklists', 'COClient_Outreach_Major_last_5_checklists', 'COClient_Outreach_Critical_last_5_checklists', 'COClient_Outreach_Major_last_10_checklists', 'COClient_Outreach_Critical_last_10_checklists', 'PCRelationship_Major_last_5_checklists', 'PCRelationship_Critical_last_5_checklists', 'PCRelationship_Major_last_10_checklists', 'PCRelationship_Critical_last_10_checklists', 'DRRelationship_Major_last_5_checklists', 'DRRelationship_Critical_last_5_checklists', 'DRRelationship_Major_last_10_checklists', 'DRRelationship_Critical_last_10_checklists', 'CORelationship_Major_last_5_checklists', 'CORelationship_Critical_last_5_checklists', 'CORelationship_Major_last_10_checklists', 'CORelationship_Critical_last_10_checklists', 'PCControl_Minor_last_5_checklists', 'PCControl_Major_last_5_checklists', 'PCControl_Critical_last_5_checklists', 'PCControl_Minor_last_10_checklists', 'PCControl_Major_last_10_checklists', 'PCControl_Critical_last_10_checklists', 'DRControl_Minor_last_5_checklists', 'DRControl_Major_last_5_checklists', 'DRControl_Critical_last_5_checklists', 'DRControl_Minor_last_10_checklists', 'DRControl_Major_last_10_checklists', 'DRControl_Critical_last_10_checklists', 'COControl_Minor_last_5_checklists', 'COControl_Major_last_5_checklists', 'COControl_Critical_last_5_checklists', 'COControl_Minor_last_10_checklists', 'COControl_Major_last_10_checklists', 'COControl_Critical_last_10_checklists', 'PCDocumentation_standard_Minor_last_5_checklists', 'PCDocumentation_standard_Major_last_5_checklists', 'PCDocumentation_standard_Minor_last_10_checklists', 'PCDocumentation_standard_Major_last_10_checklists', 'DRDocumentation_standard_Minor_last_5_checklists', 'DRDocumentation_standard_Major_last_5_checklists', 'DRDocumentation_standard_Minor_last_10_checklists', 'DRDocumentation_standard_Major_last_10_checklists', 'CODocumentation_standard_Minor_last_5_checklists', 'CODocumentation_standard_Major_last_5_checklists', 'CODocumentation_standard_Minor_last_10_checklists', 'CODocumentation_standard_Major_last_10_checklists', 'PCESR_Minor_last_5_checklists', 'PCESR_Major_last_5_checklists', 'PCESR_Critical_last_5_checklists', 'PCESR_Minor_last_10_checklists', 'PCESR_Major_last_10_checklists', 'PCESR_Critical_last_10_checklists', 'PCFATCA/CRS_Minor_last_5_checklists', 'PCFATCA/CRS_Major_last_5_checklists', 'PCFATCA/CRS_Critical_last_5_checklists', 'PCFATCA/CRS_Minor_last_10_checklists', 'PCFATCA/CRS_Major_last_10_checklists', 'PCFATCA/CRS_Critical_last_10_checklists', 'DRFATCA/CRS_Minor_last_5_checklists', 'DRFATCA/CRS_Major_last_5_checklists', 'DRFATCA/CRS_Minor_last_10_checklists', 'DRFATCA/CRS_Major_last_10_checklists', 'COFATCA/CRS_Major_last_5_checklists', 'COFATCA/CRS_Major_last_10_checklists', 'PCScreening_Major_last_5_checklists', 'PCScreening_Critical_last_5_checklists', 'PCScreening_Major_last_10_checklists', 'PCScreening_Critical_last_10_checklists', 'DRScreening_Major_last_5_checklists', 'DRScreening_Critical_last_5_checklists', 'DRScreening_Major_last_10_checklists', 'DRScreening_Critical_last_10_checklists', 'COScreening_Major_last_5_checklists', 'COScreening_Critical_last_5_checklists', 'COScreening_Major_last_10_checklists', 'COScreening_Critical_last_10_checklists', 'ProjectExperience', 'TeamExperience', 'Category_NL', 'Category_DE_AT', 'Category_FI', 'Category_Other', 'Category_Unknown', 'Category_Out_of_Scope_WB', 'Category_BE_Nord', 'Category_BMG', 'Category_In_scope_WB', 'ProcessingCountry_Netherlands', 'ProcessingCountry_Unknown', 'ProcessingCountry_Germany', 'ProcessingCountry_Other', 'ProcessingCountry_UK', 'ProcessingCountry_Belgium', 'ProcessingCountry_BMG', 'ProcessingUnit_Gdansk', 'ProcessingUnit_MidCorp', 'ProcessingUnit_DIBA', 'TLAssignedName_Armannsson__G___Gabriela_', 'TLAssignedName_Makowska__M_M___Malgorzata_', 'TLAssignedName_Bartczak__K___Kamil_', 'TLAssignedName_Bonczkowski__P___Pawel_', 'TLAssignedName_Wojciechowska__M___Magdalena_', 'TLAssignedName_Jastrzebowska__S___Sonia_', 'TLAssignedName_Jurojc__M___Mateusz_', 'TLAssignedName_Skrzynecki__P___Piotr_', 'TLAssignedName_Kolodziejczyk__A___Anna_', 'TLAssignedName_Michalik__J___Justyna_', 'TLAssignedName_Reglinska__J___Joanna_', 'TLAssignedName_Marcos_Cantabrana__I___Ivan_', 'TLAssignedName_Yadav__N___Neha_', 'TLAssignedName_Rybka__I_A___Izabela_Anna_', 'TLAssignedName_Jaszewski__M___Michal_', 'TLAssignedName_Galtie__B___Benoit_', 'CDDRiskLevel_Normal', 'CDDRiskLevel_Low', 'CDDRiskLevel_Increased', 'CDDRiskLevel_Other', 'FATCA_FALSE', 'FATCA_TRUE', 'CRS_FALSE', 'CRS_TRUE', 'MLRORequest_TRUE', 'MLRORequest_FALSE', 'PartyType_Ultimate', 'PartyType_Subsidiary', 'Weekday_Wednesday', 'Weekday_Thursday', 'Weekday_Tuesday', 'Weekday_Friday', 'Weekday_Monday', 'ESR_No_ESR_needed', 'ESR_ESR_linked', 'ESR_Full_ESR_review']\n",
      "1452 44 0.03\n",
      "363 14 0.04\n"
     ]
    }
   ],
   "source": [
    "print(list(train_data))\n",
    "print(len(train_labels), sum(train_labels), round(sum(train_labels)/len(train_labels), 2))\n",
    "print(len(test_labels), sum(test_labels), round(sum(test_labels)/len(test_labels), 2))"
   ]
  },
  {
   "cell_type": "code",
   "execution_count": null,
   "metadata": {},
   "outputs": [
    {
     "name": "stdout",
     "output_type": "stream",
     "text": [
      "|   iter    |  target   | max_depth | min_sa... | n_esti... |\n",
      "-------------------------------------------------------------\n",
      "| \u001b[0m 1       \u001b[0m | \u001b[0m 0.9227  \u001b[0m | \u001b[0m 1.401   \u001b[0m | \u001b[0m 7.771   \u001b[0m | \u001b[0m 898.4   \u001b[0m |\n",
      "| \u001b[95m 2       \u001b[0m | \u001b[95m 0.9228  \u001b[0m | \u001b[95m 1.409   \u001b[0m | \u001b[95m 8.377   \u001b[0m | \u001b[95m 424.4   \u001b[0m |\n",
      "| \u001b[0m 3       \u001b[0m | \u001b[0m 0.9227  \u001b[0m | \u001b[0m 1.559   \u001b[0m | \u001b[0m 9.726   \u001b[0m | \u001b[0m 651.0   \u001b[0m |\n",
      "| \u001b[0m 4       \u001b[0m | \u001b[0m 0.9227  \u001b[0m | \u001b[0m 1.51    \u001b[0m | \u001b[0m 9.3     \u001b[0m | \u001b[0m 880.6   \u001b[0m |\n",
      "| \u001b[0m 5       \u001b[0m | \u001b[0m 0.92    \u001b[0m | \u001b[0m 1.552   \u001b[0m | \u001b[0m 9.554   \u001b[0m | \u001b[0m 587.1   \u001b[0m |\n",
      "| \u001b[0m 6       \u001b[0m | \u001b[0m 0.9228  \u001b[0m | \u001b[0m 1.247   \u001b[0m | \u001b[0m 8.547   \u001b[0m | \u001b[0m 704.2   \u001b[0m |\n",
      "| \u001b[0m 7       \u001b[0m | \u001b[0m 0.9228  \u001b[0m | \u001b[0m 1.904   \u001b[0m | \u001b[0m 7.496   \u001b[0m | \u001b[0m 354.6   \u001b[0m |\n",
      "| \u001b[0m 8       \u001b[0m | \u001b[0m 0.92    \u001b[0m | \u001b[0m 1.939   \u001b[0m | \u001b[0m 9.394   \u001b[0m | \u001b[0m 277.8   \u001b[0m |\n",
      "| \u001b[0m 9       \u001b[0m | \u001b[0m 0.9227  \u001b[0m | \u001b[0m 1.914   \u001b[0m | \u001b[0m 8.243   \u001b[0m | \u001b[0m 784.1   \u001b[0m |\n"
     ]
    }
   ],
   "source": [
    "best_model_rfc = train(train_data, train_labels, function, parameters)"
   ]
  },
  {
   "cell_type": "code",
   "execution_count": 95,
   "metadata": {},
   "outputs": [
    {
     "name": "stdout",
     "output_type": "stream",
     "text": [
      "0.9301197023616953 0.90625 0.024\n"
     ]
    }
   ],
   "source": [
    "model = best_model_rfc\n",
    "#model = RandomForestClassifier(max_depth=2, random_state=5, n_estimators=10000, class_weight=\"balanced\", max_features=1)\n",
    "\n",
    "model.fit(train_data, train_labels)\n",
    "model_predict = model.predict(test_data)\n",
    "test_predictions = model.predict_proba(test_data)[:, 1]\n",
    "train_predictions = model.predict_proba(train_data)[:,1]\n",
    "auc_best_model_train = roc_auc_score(train_labels, train_predictions)\n",
    "auc_best_model_test = roc_auc_score(test_labels, test_predictions)\n",
    "overfit = round((auc_best_model_train - auc_best_model_test), 3)\n",
    "\n",
    "print(auc_best_model_train, auc_best_model_test, overfit)"
   ]
  },
  {
   "cell_type": "code",
   "execution_count": 96,
   "metadata": {},
   "outputs": [],
   "source": [
    "test_predictions_df = pd.DataFrame(test_predictions)\n",
    "train_predictions_df = pd.DataFrame(train_predictions)\n",
    "\n",
    "test_results = pd.concat([test_id, test_datestamp, test_predictions_df, test_labels], axis=1)\n",
    "test_results = test_results.rename(columns={0: \"Score\"})\n",
    "test_results = test_results.sort_values(by='Score', axis=0, ascending=False)\n",
    "\n",
    "SumTest = pd.DataFrame(np.cumsum(test_results['Label']))\n",
    "SumTest = SumTest.rename(columns={'Label': 'Sum'})\n",
    "test_results = pd.concat([test_results, SumTest], axis=1)\n",
    "test_results.reset_index(inplace = True , drop=True)\n",
    "X_coordinates = pd.DataFrame(np.arange(1,(test_results.shape[0]+1))/(test_results.shape[0]))\n",
    "X_coordinates = X_coordinates.rename(columns={0: 'X_coordinates'})\n",
    "y_coordinates = pd.DataFrame(test_results['Sum']/test_results['Sum'].max())\n",
    "y_coordinates = y_coordinates.rename(columns={'Sum': 'y_coordinates'})\n",
    "test_results = pd.concat([test_results, X_coordinates,y_coordinates], axis=1)\n",
    "\n",
    "# train results\n",
    "train_results = pd.concat([train_id, train_datestamp, train_predictions_df, train_labels], axis=1)\n",
    "train_results = train_results.rename(columns={0:\"Score\"})\n",
    "train_results = train_results.sort_values(by='Score', axis=0, ascending=False)\n",
    "\n",
    "SumTrain = pd.DataFrame(np.cumsum(train_results['Label']))\n",
    "SumTrain = SumTrain.rename(columns={'Label':'Sum'})\n",
    "train_results = pd.concat([train_results, SumTrain], axis=1)\n",
    "train_results.reset_index(inplace = True , drop=True)\n",
    "\n",
    "X_coordinates = pd.DataFrame(np.arange(1,(train_results.shape[0]+1))/(train_results.shape[0]))\n",
    "X_coordinates = X_coordinates.rename(columns={0: 'X_coordinates'})\n",
    "y_coordinates = pd.DataFrame(train_results['Sum']/train_results['Sum'].max())\n",
    "y_coordinates = y_coordinates.rename(columns={'Sum': 'y_coordinates'})\n",
    "train_results = pd.concat([train_results, X_coordinates,y_coordinates], axis=1)"
   ]
  },
  {
   "cell_type": "code",
   "execution_count": 97,
   "metadata": {},
   "outputs": [
    {
     "name": "stdout",
     "output_type": "stream",
     "text": [
      "['ScreenedParties', 'OwnershipLayers', 'HourNumeric', 'FirstGroupCase', 'CasesGroupPercProcessed', 'AnalystGroupPercProcessed', 'GroupCases', 'PopulationMatch', 'Cases_last_5_days_of_PC', 'Cases_last_30_days_of_PC', 'Cases_last_5_days_of_DR', 'Cases_last_30_days_of_DR', 'Cases_last_5_days_of_CO', 'Cases_last_30_days_of_CO', 'PCODD_.Office_Due_Diligence._._local_requirements_.if_applicable._Major_last_5_checklists', 'PCODD_.Office_Due_Diligence._._local_requirements_.if_applicable._Critical_last_5_checklists', 'PCODD_.Office_Due_Diligence._._local_requirements_.if_applicable._Major_last_10_checklists', 'PCODD_.Office_Due_Diligence._._local_requirements_.if_applicable._Critical_last_10_checklists', 'DRODD_.Office_Due_Diligence._._local_requirements_.if_applicable._Major_last_5_checklists', 'DRODD_.Office_Due_Diligence._._local_requirements_.if_applicable._Major_last_10_checklists', 'COODD_.Office_Due_Diligence._._local_requirements_.if_applicable._Major_last_5_checklists', 'COODD_.Office_Due_Diligence._._local_requirements_.if_applicable._Major_last_10_checklists', 'PCRisk_factors_Minor_last_5_checklists', 'PCRisk_factors_Major_last_5_checklists', 'PCRisk_factors_Critical_last_5_checklists', 'PCRisk_factors_Minor_last_10_checklists', 'PCRisk_factors_Major_last_10_checklists', 'PCRisk_factors_Critical_last_10_checklists', 'DRRisk_factors_Minor_last_5_checklists', 'DRRisk_factors_Major_last_5_checklists', 'DRRisk_factors_Critical_last_5_checklists', 'DRRisk_factors_Minor_last_10_checklists', 'DRRisk_factors_Major_last_10_checklists', 'DRRisk_factors_Critical_last_10_checklists', 'CORisk_factors_Minor_last_5_checklists', 'CORisk_factors_Major_last_5_checklists', 'CORisk_factors_Minor_last_10_checklists', 'CORisk_factors_Major_last_10_checklists', 'CORisk_factors_Critical_last_10_checklists', 'PCClient_Outreach_Major_last_5_checklists', 'PCClient_Outreach_Major_last_10_checklists', 'DRClient_Outreach_Major_last_5_checklists', 'DRClient_Outreach_Critical_last_5_checklists', 'DRClient_Outreach_Major_last_10_checklists', 'DRClient_Outreach_Critical_last_10_checklists', 'COClient_Outreach_Major_last_5_checklists', 'COClient_Outreach_Critical_last_5_checklists', 'COClient_Outreach_Major_last_10_checklists', 'COClient_Outreach_Critical_last_10_checklists', 'PCRelationship_Major_last_5_checklists', 'PCRelationship_Critical_last_5_checklists', 'PCRelationship_Major_last_10_checklists', 'PCRelationship_Critical_last_10_checklists', 'DRRelationship_Major_last_5_checklists', 'DRRelationship_Critical_last_5_checklists', 'DRRelationship_Major_last_10_checklists', 'DRRelationship_Critical_last_10_checklists', 'CORelationship_Major_last_5_checklists', 'CORelationship_Critical_last_5_checklists', 'CORelationship_Major_last_10_checklists', 'CORelationship_Critical_last_10_checklists', 'PCControl_Minor_last_5_checklists', 'PCControl_Major_last_5_checklists', 'PCControl_Critical_last_5_checklists', 'PCControl_Minor_last_10_checklists', 'PCControl_Major_last_10_checklists', 'PCControl_Critical_last_10_checklists', 'DRControl_Minor_last_5_checklists', 'DRControl_Major_last_5_checklists', 'DRControl_Critical_last_5_checklists', 'DRControl_Minor_last_10_checklists', 'DRControl_Major_last_10_checklists', 'DRControl_Critical_last_10_checklists', 'COControl_Minor_last_5_checklists', 'COControl_Major_last_5_checklists', 'COControl_Critical_last_5_checklists', 'COControl_Minor_last_10_checklists', 'COControl_Major_last_10_checklists', 'COControl_Critical_last_10_checklists', 'PCDocumentation_standard_Minor_last_5_checklists', 'PCDocumentation_standard_Major_last_5_checklists', 'PCDocumentation_standard_Minor_last_10_checklists', 'PCDocumentation_standard_Major_last_10_checklists', 'DRDocumentation_standard_Minor_last_5_checklists', 'DRDocumentation_standard_Major_last_5_checklists', 'DRDocumentation_standard_Minor_last_10_checklists', 'DRDocumentation_standard_Major_last_10_checklists', 'CODocumentation_standard_Minor_last_5_checklists', 'CODocumentation_standard_Major_last_5_checklists', 'CODocumentation_standard_Minor_last_10_checklists', 'CODocumentation_standard_Major_last_10_checklists', 'PCESR_Minor_last_5_checklists', 'PCESR_Major_last_5_checklists', 'PCESR_Critical_last_5_checklists', 'PCESR_Minor_last_10_checklists', 'PCESR_Major_last_10_checklists', 'PCESR_Critical_last_10_checklists', 'PCFATCA.CRS_Minor_last_5_checklists', 'PCFATCA.CRS_Major_last_5_checklists', 'PCFATCA.CRS_Critical_last_5_checklists', 'PCFATCA.CRS_Minor_last_10_checklists', 'PCFATCA.CRS_Major_last_10_checklists', 'PCFATCA.CRS_Critical_last_10_checklists', 'DRFATCA.CRS_Minor_last_5_checklists', 'DRFATCA.CRS_Major_last_5_checklists', 'DRFATCA.CRS_Minor_last_10_checklists', 'DRFATCA.CRS_Major_last_10_checklists', 'COFATCA.CRS_Major_last_5_checklists', 'COFATCA.CRS_Major_last_10_checklists', 'PCScreening_Major_last_5_checklists', 'PCScreening_Critical_last_5_checklists', 'PCScreening_Major_last_10_checklists', 'PCScreening_Critical_last_10_checklists', 'DRScreening_Major_last_5_checklists', 'DRScreening_Critical_last_5_checklists', 'DRScreening_Major_last_10_checklists', 'DRScreening_Critical_last_10_checklists', 'COScreening_Major_last_5_checklists', 'COScreening_Critical_last_5_checklists', 'COScreening_Major_last_10_checklists', 'COScreening_Critical_last_10_checklists', 'ProjectExperience', 'TeamExperience', 'Category_NL', 'Category_DE_AT', 'Category_FI', 'Category_Other', 'Category_Unknown', 'Category_Out_of_Scope_WB', 'Category_BE_Nord', 'Category_BMG', 'Category_In_scope_WB', 'ProcessingCountry_Netherlands', 'ProcessingCountry_Unknown', 'ProcessingCountry_Germany', 'ProcessingCountry_Other', 'ProcessingCountry_UK', 'ProcessingCountry_Belgium', 'ProcessingCountry_BMG', 'ProcessingUnit_Gdansk', 'ProcessingUnit_MidCorp', 'ProcessingUnit_DIBA', 'TLAssignedName_Armannsson__G___Gabriela_', 'TLAssignedName_Makowska__M_M___Malgorzata_', 'TLAssignedName_Bartczak__K___Kamil_', 'TLAssignedName_Bonczkowski__P___Pawel_', 'TLAssignedName_Wojciechowska__M___Magdalena_', 'TLAssignedName_Jastrzebowska__S___Sonia_', 'TLAssignedName_Jurojc__M___Mateusz_', 'TLAssignedName_Skrzynecki__P___Piotr_', 'TLAssignedName_Kolodziejczyk__A___Anna_', 'TLAssignedName_Michalik__J___Justyna_', 'TLAssignedName_Reglinska__J___Joanna_', 'TLAssignedName_Marcos_Cantabrana__I___Ivan_', 'TLAssignedName_Yadav__N___Neha_', 'TLAssignedName_Rybka__I_A___Izabela_Anna_', 'TLAssignedName_Jaszewski__M___Michal_', 'TLAssignedName_Galtie__B___Benoit_', 'CDDRiskLevel_Normal', 'CDDRiskLevel_Low', 'CDDRiskLevel_Increased', 'CDDRiskLevel_Other', 'FATCA_FALSE', 'FATCA_TRUE', 'CRS_FALSE', 'CRS_TRUE', 'MLRORequest_TRUE', 'MLRORequest_FALSE', 'PartyType_Ultimate', 'PartyType_Subsidiary', 'Weekday_Wednesday', 'Weekday_Thursday', 'Weekday_Tuesday', 'Weekday_Friday', 'Weekday_Monday', 'ESR_No_ESR_needed', 'ESR_ESR_linked', 'ESR_Full_ESR_review']\n"
     ]
    }
   ],
   "source": [
    "train_results.to_csv(r'model_training/results/PC/crf/8_FATCA_CRS/rf_train_results.csv')\n",
    "test_results.to_csv(r'model_training/results/PC/crf/8_FATCA_CRS/rf_test_results.csv')\n",
    "filename = r'model_training/results/PC/crf/8_FATCA_CRS/rfc_model.sav'\n",
    "pickle.dump(model, open(filename, 'wb'))\n",
    "print(list(train_data.columns))"
   ]
  }
 ],
 "metadata": {
  "kernelspec": {
   "display_name": "gputest",
   "language": "python",
   "name": "gputest"
  },
  "language_info": {
   "codemirror_mode": {
    "name": "ipython",
    "version": 3
   },
   "file_extension": ".py",
   "mimetype": "text/x-python",
   "name": "python",
   "nbconvert_exporter": "python",
   "pygments_lexer": "ipython3",
   "version": "3.7.6"
  }
 },
 "nbformat": 4,
 "nbformat_minor": 2
}
