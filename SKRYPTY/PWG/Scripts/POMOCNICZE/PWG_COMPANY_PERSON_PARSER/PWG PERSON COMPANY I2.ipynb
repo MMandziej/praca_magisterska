{
 "cells": [
  {
   "cell_type": "markdown",
   "metadata": {},
   "source": [
    "## <font color='DEEPPINK'> Set path for input JSON files, path for XLSX output and name for XLSX output </font>"
   ]
  },
  {
   "cell_type": "markdown",
   "metadata": {},
   "source": [
    "Set output type:  \n",
    "For Person (PESEL): 1  \n",
    "For Company (NIP): 2  \n",
    "For Person&Company (PESEL & NIP): 3  "
   ]
  },
  {
   "cell_type": "code",
   "execution_count": 24,
   "metadata": {},
   "outputs": [],
   "source": [
    "JSON_DIR = r'C:\\Users\\mkot003\\Desktop\\BS\\nowy\\pesele'"
   ]
  },
  {
   "cell_type": "code",
   "execution_count": 25,
   "metadata": {},
   "outputs": [],
   "source": [
    "OUTPUT_PATH = r'C:\\Users\\mkot003\\Desktop\\BS\\nowy\\pesele'"
   ]
  },
  {
   "cell_type": "code",
   "execution_count": 26,
   "metadata": {},
   "outputs": [],
   "source": [
    "OUTPUT_NAME = 'output_i2'"
   ]
  },
  {
   "cell_type": "code",
   "execution_count": 27,
   "metadata": {},
   "outputs": [],
   "source": [
    "OUTPUT_TYPE = 1"
   ]
  },
  {
   "cell_type": "markdown",
   "metadata": {},
   "source": [
    "## <font color='DEEPPINK'> Select output columns and set order </font>"
   ]
  },
  {
   "cell_type": "markdown",
   "metadata": {},
   "source": [
    "### <font color='DEEPPINK'> PERSON </font>"
   ]
  },
  {
   "cell_type": "code",
   "execution_count": 28,
   "metadata": {},
   "outputs": [],
   "source": [
    "columns_order_1 = ['name', 'surname', 'wiek', 'person_id', 'nazwa', 'adres', 'lokal', 'numer', 'poczta', \n",
    "       'kod_pocztowy',  'miasto', 'kapital',  'nip', 'krs', 'regon', \n",
    "        'company_id', 'rola', 'start', 'koniec']"
   ]
  },
  {
   "cell_type": "markdown",
   "metadata": {},
   "source": [
    "### <font color='DEEPPINK'> COMPANY </font>"
   ]
  },
  {
   "cell_type": "code",
   "execution_count": 29,
   "metadata": {},
   "outputs": [],
   "source": [
    "columns_order_2 = [ 'id', 'ilosc', 'wartosc','kapital',  \n",
    "                   'nazwa','krs', 'regon', 'nazwa_main','nip', 'rola_2', 'start_2', 'koniec_2']"
   ]
  },
  {
   "cell_type": "markdown",
   "metadata": {},
   "source": [
    "### <font color='DEEPPINK'> PERSON & COMPANY </font>"
   ]
  },
  {
   "cell_type": "code",
   "execution_count": 30,
   "metadata": {},
   "outputs": [],
   "source": [
    "columns_order_3 = ['id', 'ilosc', 'kapital', 'wartosc', 'nazwa', 'regon', 'krs', 'rola_2', 'start_2', 'koniec_2', \n",
    "                  'company_id', 'person_id','name', 'surname', 'pesel', 'wiek', 'adres', 'miasto','numer', 'lokal', 'poczta', 'kod_pocztowy',\n",
    "                  'rola', 'start', 'koniec', 'nazwa_main', 'nip']"
   ]
  },
  {
   "cell_type": "markdown",
   "metadata": {},
   "source": [
    "## <font color='LIGHTSEAGREEN'> Import libraries </font>"
   ]
  },
  {
   "cell_type": "code",
   "execution_count": 31,
   "metadata": {},
   "outputs": [],
   "source": [
    "import os\n",
    "import json\n",
    "import pandas as pd\n",
    "from pandas.io.json import json_normalize"
   ]
  },
  {
   "cell_type": "markdown",
   "metadata": {},
   "source": [
    "## <font color='LIGHTSEAGREEN'> Define functions </font>"
   ]
  },
  {
   "cell_type": "code",
   "execution_count": 32,
   "metadata": {},
   "outputs": [],
   "source": [
    "def collect_json_names():\n",
    "    files = os.listdir(JSON_DIR)\n",
    "    json_names = []\n",
    "    [json_names.append(i) for i in files if i[-4:] == 'json']\n",
    "    return(json_names)\n",
    "\n",
    "\n",
    "def load_json(json_names):\n",
    "    json_files = []\n",
    "    faulty = []\n",
    "    for file in json_names:\n",
    "        try:\n",
    "            with open(JSON_DIR + '\\\\' + file, encoding=\"utf8\") as f:\n",
    "                data = json.load(f)\n",
    "                data = data['result']['data']\n",
    "                data['pesel'] = file[0:11]\n",
    "                if type(data) is not list:\n",
    "                    json_files.append(data)\n",
    "                else:\n",
    "                    faulty.append(file + ' - empty')\n",
    "        except ValueError:  # includes simplejson.decoder.JSONDecodeError\n",
    "            faulty.append(file + ' - faulty')\n",
    "    files = [json_files, faulty]        \n",
    "    return(files)\n",
    "\n",
    "\n",
    "def parse_person(valid_json):\n",
    "    lvl_1 = json_normalize(valid_json, record_path='firmy', meta = ['name', 'person_id', 'surname', 'wiek', 'pesel'])\n",
    "    lvl_1.rename(columns = {0:'company_id'}, inplace = True)\n",
    "    return lvl_1\n",
    "\n",
    "\n",
    "def parse_role_date(role_date):\n",
    "    roles = []\n",
    "    for column in role_date_columns:\n",
    "        for row in range(0, len(role_date)):\n",
    "            try:\n",
    "                role = json_normalize(role_date.loc[row, column])\n",
    "                role['person_id'] = role_date.loc[row, 'person_id']\n",
    "                role['company_id'] = role_date.loc[row, 'company_id']\n",
    "                roles.append(role)\n",
    "            except:\n",
    "                pass\n",
    "    roles = pd.concat(roles)          \n",
    "    roles.reset_index(drop=True ,inplace=True)  \n",
    "    return roles\n",
    "\n",
    "\n",
    "def parse_company(firmy):\n",
    "    lista_df = []    \n",
    "    for firma in firmy:\n",
    "        keys = firma.keys()\n",
    "        for key in keys:\n",
    "            lista_df.append(json_normalize(firma[key], meta='rola'))\n",
    "    firmy_df = pd.concat(lista_df)\n",
    "    firmy_df.reset_index(drop=True ,inplace=True)\n",
    "    return firmy_df\n",
    "\n",
    "\n",
    "def create_df(valid_json):\n",
    "    dfs = []\n",
    "    for i in valid_json:\n",
    "        (keys,values) = zip(*i.items())\n",
    "        keys = pd.Series(keys)\n",
    "        values = pd.Series(values,index=keys)\n",
    "        dfs.append(values)\n",
    "    df = pd.DataFrame(dfs, columns=keys)\n",
    "    return df\n",
    "\n",
    "\n",
    "def create_outer_table(df, table):\n",
    "    temp = []\n",
    "    nip = []\n",
    "    for row in range(0, len(df[table])):\n",
    "        try:\n",
    "            temp.append(json_normalize(df.loc[row, table]))\n",
    "            nip.append(df.loc[row, 'nip'])\n",
    "        except:\n",
    "            pass\n",
    "        \n",
    "    for i in range(0, len(temp)):\n",
    "        temp[i]['nip'] = nip[i]\n",
    "        \n",
    "    temp = pd.concat(temp)\n",
    "    temp.reset_index(drop=True ,inplace=True)\n",
    "    df.drop([table], axis=1, inplace=True)\n",
    "    return temp"
   ]
  },
  {
   "cell_type": "markdown",
   "metadata": {},
   "source": [
    "## <font color='LIGHTSEAGREEN'> Load data </font>"
   ]
  },
  {
   "cell_type": "code",
   "execution_count": 33,
   "metadata": {},
   "outputs": [],
   "source": [
    "files_json = load_json(collect_json_names())\n",
    "faulty_json = files_json[1]\n",
    "valid_json = files_json[0]\n",
    "\n",
    "valid_json_pesel = list(filter(lambda i: len(i) <= 6, valid_json))\n",
    "valid_json_comapny = list(filter(lambda i: len(i) > 6, valid_json))"
   ]
  },
  {
   "cell_type": "markdown",
   "metadata": {},
   "source": [
    "## <font color='LIGHTSEAGREEN'> Create PERSON </font>"
   ]
  },
  {
   "cell_type": "code",
   "execution_count": 36,
   "metadata": {},
   "outputs": [],
   "source": [
    "person = parse_person(valid_json_pesel)\n",
    "\n",
    "firmy = []\n",
    "[firmy.append(i['firmy']) for i in valid_json_pesel]\n",
    "\n",
    "company = parse_company(firmy)\n",
    "\n",
    "person_company = person.merge(company, left_index=True, right_index=True, how='inner')\n",
    "person_company.drop(['company_id_x'], axis=1, inplace=True)\n",
    "person_company.rename(columns = {'company_id_y':'company_id'}, inplace = True)\n",
    "\n",
    "role_date_columns = ['rola.dg.daty',\n",
    "        'rola.organ_nadzoru.daty', 'rola.prokura.daty',\n",
    "       'rola.wspolnik.daty', 'rola.zarzad.daty']\n",
    "\n",
    "role_date = person_company[role_date_columns + ['person_id', 'company_id']]\n",
    "person_company.drop(role_date_columns, axis=1, inplace=True)\n",
    "\n",
    "role = parse_role_date(role_date)\n",
    "\n",
    "person_company_role = person_company.merge(role, left_on=['person_id', 'company_id'], right_on=['person_id', 'company_id'], how='inner')\n",
    "person_company_role['koniec'].replace('9999-12-31', 'obecnie', regex=True, inplace=True)\n",
    "person_company_role.rename(columns = {'nazwa':'nazwa_main'}, inplace = True)"
   ]
  },
  {
   "cell_type": "markdown",
   "metadata": {},
   "source": [
    "## <font color='LIGHTSEAGREEN'> Create COMPANY </font>"
   ]
  },
  {
   "cell_type": "code",
   "execution_count": 35,
   "metadata": {},
   "outputs": [],
   "source": [
    "spolki = create_df(valid_json_comapny)\n",
    "spolki.rename(columns = {'nazwa':'nazwa_main'}, inplace = True)\n",
    "\n",
    "aktywnosc = create_outer_table(spolki, 'aktywnosc')\n",
    "aktywnosc.rename(columns = {'rola2':'rola_2'}, inplace = True)\n",
    "aktywnosc.rename(columns = {'koniec':'koniec_2'}, inplace = True)\n",
    "aktywnosc.rename(columns = {'start':'start_2'}, inplace = True)\n",
    "\n",
    "aktywnosc['koniec_2'].replace('9999-12-31', 'obecnie', regex=True, inplace=True)\n",
    "aktywnosc = spolki[['nip', 'nazwa_main']].merge(aktywnosc, left_on=['nip'], right_on=['nip'], how='left')"
   ]
  },
  {
   "cell_type": "markdown",
   "metadata": {},
   "source": [
    "## <font color='LIGHTSEAGREEN'> Create XLSX output </font>"
   ]
  },
  {
   "cell_type": "code",
   "execution_count": null,
   "metadata": {},
   "outputs": [],
   "source": [
    "if OUTPUT_TYPE == 1:\n",
    "    person_company_role[columns_order_1].to_excel(OUTPUT_PATH + OUTPUT_NAME + '.xlsx')\n",
    "elif OUTPUT_TYPE == 2:\n",
    "    aktywnosc[columns_order_2].to_excel(OUTPUT_PATH + OUTPUT_NAME + '.xlsx')\n",
    "else OUTPUT_TYPE == 3:\n",
    "    final = aktywnosc.append(person_company_role)\n",
    "    final[columns_order_3].to_excel(OUTPUT_PATH + OUTPUT_NAME + '.xlsx')"
   ]
  }
 ],
 "metadata": {
  "kernelspec": {
   "display_name": "Python 3",
   "language": "python",
   "name": "python3"
  },
  "language_info": {
   "codemirror_mode": {
    "name": "ipython",
    "version": 3
   },
   "file_extension": ".py",
   "mimetype": "text/x-python",
   "name": "python",
   "nbconvert_exporter": "python",
   "pygments_lexer": "ipython3",
   "version": "3.7.1"
  }
 },
 "nbformat": 4,
 "nbformat_minor": 2
}
